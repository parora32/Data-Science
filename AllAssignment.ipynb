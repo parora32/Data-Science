{
 "cells": [
  {
   "cell_type": "code",
   "execution_count": 1,
   "id": "b46d1f23-5e88-4109-8423-0dafef3211f9",
   "metadata": {},
   "outputs": [
    {
     "name": "stdin",
     "output_type": "stream",
     "text": [
      "enter a number: 2\n"
     ]
    },
    {
     "name": "stdout",
     "output_type": "stream",
     "text": [
      "no is even\n"
     ]
    }
   ],
   "source": [
    "#even or odd\n",
    "num=int(input(\"enter a number:\"))\n",
    "if(num % 2)== 0:\n",
    "    print(\"no is even\")\n",
    "else:\n",
    "    print(\"no is odd\")\n"
   ]
  },
  {
   "cell_type": "code",
   "execution_count": 1,
   "id": "84923c15-cd97-4b3a-86ca-cf02f0c96633",
   "metadata": {},
   "outputs": [
    {
     "name": "stdin",
     "output_type": "stream",
     "text": [
      "Enter the first number:  56\n",
      "Enter the second number:  63\n"
     ]
    },
    {
     "name": "stdout",
     "output_type": "stream",
     "text": [
      "63.0 is greater than 56.0\n"
     ]
    }
   ],
   "source": [
    "#Number Comparison\n",
    "num1 = float(input(\"Enter the first number: \"))\n",
    "num2 = float(input(\"Enter the second number: \"))\n",
    "\n",
    "if num1 > num2 :\n",
    "    print(f\"{num1} is greater than {num2}\")\n",
    "elif num1 < num2 :\n",
    "    print(f\"{num2} is greater than {num1}\")\n",
    "else:\n",
    "    print(\"Both numbers are equal\")\n",
    "\n",
    "\n"
   ]
  },
  {
   "cell_type": "code",
   "execution_count": 1,
   "id": "79278c10-3b3a-4ba0-86ae-bf76aa924eb9",
   "metadata": {},
   "outputs": [
    {
     "name": "stdin",
     "output_type": "stream",
     "text": [
      "Enter a number:  1\n"
     ]
    },
    {
     "name": "stdout",
     "output_type": "stream",
     "text": [
      "The number is positive.\n"
     ]
    }
   ],
   "source": [
    "#Positive or Negative Number\n",
    "number = int(input(\"Enter a number: \"))\n",
    "\n",
    "if number > 0:\n",
    "    print(\"The number is positive.\")\n",
    "elif number < 0:\n",
    "    print(\"The number is negative.\")\n",
    "else:\n",
    "    print(\"The number is zero.\")  "
   ]
  },
  {
   "cell_type": "code",
   "execution_count": 2,
   "id": "e89800f6-9e51-42aa-bc5e-e6af75af6117",
   "metadata": {},
   "outputs": [
    {
     "name": "stdin",
     "output_type": "stream",
     "text": [
      "Enter the password:  python123\n"
     ]
    },
    {
     "name": "stdout",
     "output_type": "stream",
     "text": [
      "Access granted.\n"
     ]
    }
   ],
   "source": [
    "#Password Checker\n",
    "password = input(\"Enter the password: \")\n",
    "if password == \"python123\":\n",
    "        print(\"Access granted.\")\n",
    "else:\n",
    "        print(\"Access denied.\")"
   ]
  },
  {
   "cell_type": "code",
   "execution_count": 4,
   "id": "2ba67d6a-e4c1-409e-a3c7-c2b1d78c7aac",
   "metadata": {},
   "outputs": [
    {
     "name": "stdin",
     "output_type": "stream",
     "text": [
      "Enter your age:  15\n"
     ]
    },
    {
     "name": "stdout",
     "output_type": "stream",
     "text": [
      "You are not an adult.\n"
     ]
    }
   ],
   "source": [
    "#Age Checker\n",
    "age = int(input(\"Enter your age: \"))\n",
    "if age >= 18:\n",
    "        print(\"You are an adult.\")\n",
    "else:\n",
    "        print(\"You are not an adult.\")\n",
    "    "
   ]
  },
  {
   "cell_type": "code",
   "execution_count": 5,
   "id": "f43add9e-8613-4d6f-919d-77793dcce2c4",
   "metadata": {
    "scrolled": true
   },
   "outputs": [
    {
     "name": "stdin",
     "output_type": "stream",
     "text": [
      "Enter your age:  16\n"
     ]
    },
    {
     "name": "stdout",
     "output_type": "stream",
     "text": [
      "You are not eligible to vote.\n"
     ]
    }
   ],
   "source": [
    "#Voting Eligibility\n",
    "age = int(input(\"Enter your age: \"))\n",
    "if age >= 18:\n",
    "        print(\"You are eligible to vote.\")\n",
    "else:\n",
    "        print(\"You are not eligible to vote.\")"
   ]
  },
  {
   "cell_type": "code",
   "execution_count": 7,
   "id": "5dab9dc3-6f98-4849-b817-3a7ada497342",
   "metadata": {},
   "outputs": [
    {
     "name": "stdin",
     "output_type": "stream",
     "text": [
      "Enter the temperature in Celsius:  32\n"
     ]
    },
    {
     "name": "stdout",
     "output_type": "stream",
     "text": [
      "It's a hot day.\n"
     ]
    }
   ],
   "source": [
    "#Temperature Conversion\n",
    "temperature_celsius = float(input(\"Enter the temperature in Celsius: \"))\n",
    "if temperature_celsius > 30:\n",
    "        print(\"It's a hot day.\")\n",
    "else:\n",
    "        print(\"It's not a hot day.\")"
   ]
  },
  {
   "cell_type": "markdown",
   "id": "8c5283c0-f505-437a-9539-067b03c2be35",
   "metadata": {},
   "source": [
    "#Positive or Negative Number \n",
    " number = float(input(\"Enter a number: \"))\n",
    "if number > 0:\n",
    "        print(\"The number is positive.\")\n",
    "elif number < 0:\n",
    "        print(\"The number is negative.\")\n",
    "else:\n",
    "        print(\"The number is zero.\")"
   ]
  },
  {
   "cell_type": "code",
   "execution_count": 12,
   "id": "f4d8c518-de89-4ed1-9885-430ba32f347e",
   "metadata": {},
   "outputs": [
    {
     "name": "stdin",
     "output_type": "stream",
     "text": [
      "Enter the first number:  7\n",
      "Enter the second number:  9\n"
     ]
    },
    {
     "name": "stdout",
     "output_type": "stream",
     "text": [
      "The second number is greater.\n"
     ]
    }
   ],
   "source": [
    "#Number Comparison (Improved)\n",
    "num1 = float(input(\"Enter the first number: \"))\n",
    "num2 = float(input(\"Enter the second number: \"))\n",
    "if num1 > num2 :\n",
    "        print(\"The first number is greater.\")\n",
    "elif num2 > num1 :\n",
    "        print(\"The second number is greater.\")\n",
    "else:\n",
    "        print(\"Both numbers are equal.\")"
   ]
  },
  {
   "cell_type": "code",
   "execution_count": 1,
   "id": "81bb0ef3-6bfe-4a75-8034-dd9953dc120d",
   "metadata": {},
   "outputs": [
    {
     "name": "stdin",
     "output_type": "stream",
     "text": [
      "Enter a number:  6\n"
     ]
    },
    {
     "name": "stdout",
     "output_type": "stream",
     "text": [
      "The number is even.\n"
     ]
    }
   ],
   "source": [
    "#Odd or Even Number (Improved)\n",
    "number = int(input(\"Enter a number: \"))\n",
    "if number % 2 == 0:\n",
    "        print(\"The number is even.\")\n",
    "else:\n",
    "        print(\"The number is odd.\")"
   ]
  },
  {
   "cell_type": "code",
   "execution_count": 2,
   "id": "7ac239f6-4e06-435b-8769-2b03de84a0f6",
   "metadata": {},
   "outputs": [
    {
     "name": "stdin",
     "output_type": "stream",
     "text": [
      "Enter a number:  -3\n"
     ]
    },
    {
     "name": "stdout",
     "output_type": "stream",
     "text": [
      "The number is negative.\n"
     ]
    }
   ],
   "source": [
    "#Positive, Negative, or Zero \n",
    "number = float(input(\"Enter a number: \"))\n",
    "if number > 0 :\n",
    "        print(\"The number is positive.\")\n",
    "elif number < 0 :\n",
    "        print(\"The number is negative.\")\n",
    "else:\n",
    "        print(\"The number is zero.\")"
   ]
  },
  {
   "cell_type": "code",
   "execution_count": 5,
   "id": "85034146-9e24-4665-8c88-ef61a49ee8a8",
   "metadata": {},
   "outputs": [
    {
     "name": "stdin",
     "output_type": "stream",
     "text": [
      "Enter your age:  20\n"
     ]
    },
    {
     "name": "stdout",
     "output_type": "stream",
     "text": [
      "Adult.\n"
     ]
    }
   ],
   "source": [
    "#Age Group Classification\n",
    "age = int(input(\"Enter your age: \"))\n",
    "if age < 13 :\n",
    "        print(\"Child.\")\n",
    "elif age >= 13 and age <= 19 :\n",
    "        print(\"Teenager.\")\n",
    "else:\n",
    "        print(\"Adult.\")"
   ]
  },
  {
   "cell_type": "code",
   "execution_count": 8,
   "id": "6f9cab39-6a1a-4052-90fb-da49d7d6d68c",
   "metadata": {},
   "outputs": [
    {
     "name": "stdin",
     "output_type": "stream",
     "text": [
      "Enter a password:  palak123\n"
     ]
    },
    {
     "name": "stdout",
     "output_type": "stream",
     "text": [
      "Strong.\n"
     ]
    }
   ],
   "source": [
    "#Password Strength Checker\n",
    "password = input(\"Enter a password: \")\n",
    "if len(password) < 8:\n",
    "        print(\"Weak.\")\n",
    "else:\n",
    "        print(\"Strong.\")\n"
   ]
  },
  {
   "cell_type": "code",
   "execution_count": 10,
   "id": "14cc6603-7f6d-47a7-9d9f-71363bdd0b98",
   "metadata": {},
   "outputs": [
    {
     "name": "stdin",
     "output_type": "stream",
     "text": [
      "Enter your age:  25\n"
     ]
    },
    {
     "name": "stdout",
     "output_type": "stream",
     "text": [
      "You are allowed to enter.\n"
     ]
    }
   ],
   "source": [
    "#Age Verification\n",
    "age = int(input(\"Enter your age: \"))\n",
    "if age >= 21:\n",
    "        print(\"You are allowed to enter.\")\n",
    "else:\n",
    "        print(\"Access denied.\")"
   ]
  },
  {
   "cell_type": "code",
   "execution_count": 12,
   "id": "558593d0-e90f-4957-b6b0-3e1f4d27f433",
   "metadata": {},
   "outputs": [
    {
     "name": "stdin",
     "output_type": "stream",
     "text": [
      "Enter the first number:  2\n",
      "Enter the second number:  3\n"
     ]
    },
    {
     "name": "stdout",
     "output_type": "stream",
     "text": [
      "The numbers are not equal.\n"
     ]
    }
   ],
   "source": [
    "#Number Comparison (Improved)\n",
    "num1 = float(input(\"Enter the first number: \"))\n",
    "num2 = float(input(\"Enter the second number: \"))\n",
    "if num1 == num2:\n",
    "        print(\"The numbers are equal.\")\n",
    "else:\n",
    "        print(\"The numbers are not equal.\")"
   ]
  },
  {
   "cell_type": "code",
   "execution_count": 15,
   "id": "5ccf7c3c-09d7-4d90-9e1b-dfe1219c6412",
   "metadata": {},
   "outputs": [
    {
     "name": "stdin",
     "output_type": "stream",
     "text": [
      "Enter the student's score:  85\n"
     ]
    },
    {
     "name": "stdout",
     "output_type": "stream",
     "text": [
      "The student's grade is: B\n"
     ]
    }
   ],
   "source": [
    "#Grading System\n",
    "score = int(input(\"Enter the student's score: \"))\n",
    "if score >= 90 and score <= 100:\n",
    "        grade = \"A\"\n",
    "elif score >= 80 and score < 90:\n",
    "        grade = \"B\"\n",
    "elif score >= 70 and score < 80:\n",
    "        grade = \"C\"\n",
    "elif score >= 60 and score < 70:\n",
    "        grade = \"D\"\n",
    " else:\n",
    "        grade = \"F\"\n",
    "print(\"The student's grade is:\", grade)\n"
   ]
  },
  {
   "cell_type": "code",
   "execution_count": 16,
   "id": "dbc990fb-780f-4fc7-9a40-98dcf6bac071",
   "metadata": {},
   "outputs": [
    {
     "name": "stdin",
     "output_type": "stream",
     "text": [
      "Enter the original price of the product:  300\n"
     ]
    },
    {
     "name": "stdout",
     "output_type": "stream",
     "text": [
      "The final price after applying a 10% discount is: 270.0\n"
     ]
    }
   ],
   "source": [
    "#Discount Calculator\n",
    "original_price = float(input(\"Enter the original price of the product: \"))\n",
    "discount_amount = 0.1 * original_price\n",
    "final_price = original_price - discount_amount\n",
    "print(\"The final price after applying a 10% discount is:\", final_price)\n"
   ]
  },
  {
   "cell_type": "code",
   "execution_count": null,
   "id": "5cfa7750-c43d-4c12-9e51-34299d66bc1e",
   "metadata": {},
   "outputs": [],
   "source": [
    "#BMI Calculator\n",
    "weight_kg = float(input(\"Enter your weight in kilograms: \"))\n",
    "height_m = float(input(\"Enter your height in meters: \"))\n",
    "bmi = weight_kg / height_m/100\n",
    "print(\"Your Body Mass Index (BMI) is:\", bmi)\n",
    "# 18 below = \"under weight\"\n",
    "# 18 above and 23below- \"Norma;\n",
    "# above 23  =\"Over weight\"\n",
    "# f\"{}\""
   ]
  },
  {
   "cell_type": "code",
   "execution_count": 24,
   "id": "81f42578-93ae-49f8-9d9c-e923bf437b14",
   "metadata": {},
   "outputs": [
    {
     "name": "stdin",
     "output_type": "stream",
     "text": [
      "Enter the password:  password123\n"
     ]
    },
    {
     "name": "stdout",
     "output_type": "stream",
     "text": [
      "Access granted.\n"
     ]
    }
   ],
   "source": [
    "#Password Verification\n",
    "password = input(\"Enter the password: \")\n",
    "if password == \"password123\":\n",
    "        print(\"Access granted.\")\n",
    "else:\n",
    "        print(\"Access denied.\")"
   ]
  },
  {
   "cell_type": "code",
   "execution_count": null,
   "id": "03f8145e-fb47-4445-acaf-20e46ff01380",
   "metadata": {},
   "outputs": [],
   "source": [
    "#Ticket Price Calculator\n",
    "# age = int(input(\"Enter your age : \"))\n",
    "# ticket_price=0\n",
    "# if age <= 12 :\n",
    "#     ticket_price = 5\n",
    "# elif age >12 and <= 18 :\n",
    "#     ticket_price = 8\n",
    "# elif age > 18 :\n",
    "#     ticket_price = 2000\n",
    "# print(ticket_price)    \n",
    "age=int(input(\"Enter the value :\"))\n",
    "tic_prz=0\n",
    "if age <= 12:\n",
    "    tic_prz=54\n",
    "elif age > 12 and age ==18:\n",
    "    tic_prz=60\n",
    "elif age > 18 and age >20:\n",
    "    tic_prz=600\n",
    "print(tic_prz)    \n",
    "    "
   ]
  },
  {
   "cell_type": "code",
   "execution_count": null,
   "id": "6114dcc2-fe47-4db1-9c89-4da7fb28128c",
   "metadata": {},
   "outputs": [],
   "source": [
    "#Discount Coupon\n",
    "purchase_amount = float(input(\"Enter the total purchase amount: $\"))\n",
    "if purchase_amount >= 50:\n",
    "        \n",
    "        discount = 0.1 * purchase_amount\n",
    "        final_amount = purchase_amount - discount\n",
    "        print(\"Final amount to be paid after a 10% discount: ${:.2f}\".format(final_amount))\n",
    "else:\n",
    "        \n",
    "        print(\"Total amount to be paid: ${:.2f}\".format(purchase_amount))\n"
   ]
  },
  {
   "cell_type": "code",
   "execution_count": 39,
   "id": "19ab9ec3-11a2-4aaa-a6e7-4f469130987b",
   "metadata": {},
   "outputs": [
    {
     "name": "stdin",
     "output_type": "stream",
     "text": [
      "Enter a color (red, yellow, or green):  green\n"
     ]
    },
    {
     "name": "stdout",
     "output_type": "stream",
     "text": [
      "Go.\n"
     ]
    }
   ],
   "source": [
    "#Traffic Light Simulator\n",
    "color = input(\"Enter a color (red, yellow, or green): \")\n",
    "\n",
    "if color == \"red\":\n",
    "        print(\"Stop.\")\n",
    "    \n",
    "elif color == \"yellow\":\n",
    "        print(\"Slow down.\")\n",
    "    \n",
    "elif color == \"green\":\n",
    "        print(\"Go.\")\n",
    "else:\n",
    "        print(\" Please enter 'red', 'yellow', or 'green'.\")\n",
    "\n",
    "    \n",
    "   \n"
   ]
  },
  {
   "cell_type": "code",
   "execution_count": null,
   "id": "814b44fc-59d9-428f-a026-e0a2a060ccb2",
   "metadata": {
    "scrolled": true
   },
   "outputs": [],
   "source": [
    "#Simple Calculator\n",
    "num1 = float(input(\"Enter the first number: \"))\n",
    "num2 = float(input(\"Enter the second number: \"))\n",
    "operator = input(\"Enter the operator (+, -, *, /): \")\n",
    "result=0\n",
    "if operator == '+':\n",
    "    result = num1 + num2\n",
    "elif operator == '-':\n",
    "    result = num1 - num2\n",
    "elif operator == '*':\n",
    "    result = num1 * num2\n",
    "elif operator == '/':\n",
    "    result = num1 / num2\n",
    "else:\n",
    "    result(\"not valid\")\n",
    "print(result)   \n",
    "        "
   ]
  },
  {
   "cell_type": "code",
   "execution_count": 51,
   "id": "71050eaa-2eab-42eb-9bb3-85da96a29da2",
   "metadata": {},
   "outputs": [
    {
     "name": "stdin",
     "output_type": "stream",
     "text": [
      "Enter your exam score as a percentage (0-100):  92\n"
     ]
    },
    {
     "name": "stdout",
     "output_type": "stream",
     "text": [
      "message\n"
     ]
    }
   ],
   "source": [
    "#Exam Result\n",
    "score = float(input(\"Enter your exam score as a percentage (0-100): \"))\n",
    "if 90 <= score <= 100:\n",
    "        message = \"Excellent\"\n",
    "elif 80 <= score < 90:\n",
    "        message = \"Good\"\n",
    "elif 70 <= score < 80:\n",
    "        message = \"Satisfactory\"\n",
    "else:\n",
    "        message = \"Needs Improvement\"\n",
    "print(\" score message\")\n"
   ]
  },
  {
   "cell_type": "code",
   "execution_count": 53,
   "id": "3bb855e2-c599-4c71-abc0-283e57831bbd",
   "metadata": {},
   "outputs": [
    {
     "name": "stdin",
     "output_type": "stream",
     "text": [
      "Enter the student's score:  50\n"
     ]
    },
    {
     "name": "stdout",
     "output_type": "stream",
     "text": [
      "The student's grade is: F\n"
     ]
    }
   ],
   "source": [
    "#Grade Classification (Improved)\n",
    "score = float(input(\"Enter the student's score: \"))\n",
    "if score >= 90:\n",
    "        grade = \"A\"\n",
    "elif score >= 80:\n",
    "        grade = \"B\"\n",
    "elif score >= 70:\n",
    "        grade = \"C\"\n",
    "elif score >= 60:\n",
    "        grade = \"D\"\n",
    "else:\n",
    "        grade = \"F\"\n",
    "print(\"The student's grade is:\", grade)\n"
   ]
  },
  {
   "cell_type": "code",
   "execution_count": null,
   "id": "c2821e6b-3a67-46fc-9d8b-41b7a7a7ad19",
   "metadata": {},
   "outputs": [],
   "source": []
  }
 ],
 "metadata": {
  "kernelspec": {
   "display_name": "Python 3 (ipykernel)",
   "language": "python",
   "name": "python3"
  },
  "language_info": {
   "codemirror_mode": {
    "name": "ipython",
    "version": 3
   },
   "file_extension": ".py",
   "mimetype": "text/x-python",
   "name": "python",
   "nbconvert_exporter": "python",
   "pygments_lexer": "ipython3",
   "version": "3.12.2"
  }
 },
 "nbformat": 4,
 "nbformat_minor": 5
}
