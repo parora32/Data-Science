{
 "cells": [
  {
   "cell_type": "code",
   "execution_count": 17,
   "id": "35b7a7ad-5f5b-442f-a140-8ffc752f595b",
   "metadata": {},
   "outputs": [
    {
     "name": "stdout",
     "output_type": "stream",
     "text": [
      "14\n",
      "10\n",
      "24\n",
      "6.0\n"
     ]
    }
   ],
   "source": [
    "#Arithmetic Operater\n",
    "a=12\n",
    "b=2\n",
    "print(a+b)\n",
    "print(a-b)\n",
    "print(a*b)\n",
    "print(a/b)"
   ]
  },
  {
   "cell_type": "code",
   "execution_count": 2,
   "id": "9ff7bdb7-7ec6-4c29-959c-b16a5d6d25d5",
   "metadata": {},
   "outputs": [
    {
     "name": "stdout",
     "output_type": "stream",
     "text": [
      "not equal\n"
     ]
    }
   ],
   "source": [
    "# Comparison Operators\n",
    "\n",
    "a=12\n",
    "b=6\n",
    "\n",
    "if a == b:\n",
    "    print(\"equal\")\n",
    "elif a != b: \n",
    "    print(\"not equal\")\n",
    "elif a > b: \n",
    "    print(\"greater than b\")\n",
    "elif a < b: \n",
    "    print(\"less than b\") "
   ]
  },
  {
   "cell_type": "code",
   "execution_count": 4,
   "id": "a0fe6eea-aa9c-477c-85f2-0f17e0d4c770",
   "metadata": {},
   "outputs": [
    {
     "name": "stdin",
     "output_type": "stream",
     "text": [
      "Enter the Value : true\n",
      "Enter the Value : false\n"
     ]
    },
    {
     "name": "stdout",
     "output_type": "stream",
     "text": [
      "True\n",
      "True\n",
      "False\n"
     ]
    }
   ],
   "source": [
    "#logical operator\n",
    "takeTrue=bool(input(\"Enter the Value :\"))\n",
    "takeFalse=bool(input(\"Enter the Value :\"))\n",
    "\n",
    "print(takeFalse and takeTrue)\n",
    "print(takeTrue or takeFalse)\n",
    "print(not takeTrue)"
   ]
  },
  {
   "cell_type": "code",
   "execution_count": 5,
   "id": "440c3737-8253-4f0c-82b7-5a59af601066",
   "metadata": {},
   "outputs": [
    {
     "name": "stdin",
     "output_type": "stream",
     "text": [
      "Enter the value : 4\n",
      "Enter the value : 5\n",
      "Enter the value : 7\n"
     ]
    },
    {
     "name": "stdout",
     "output_type": "stream",
     "text": [
      "63.0\n"
     ]
    }
   ],
   "source": [
    "#Precedence of Operators\n",
    "\n",
    "a=int(input(\"Enter the value :\"))\n",
    "b=int(input(\"Enter the value :\"))\n",
    "c=int(input(\"Enter the value :\"))\n",
    "\n",
    "dom=(a + b) * (c / (b - a))\n",
    "print(dom)"
   ]
  },
  {
   "cell_type": "code",
   "execution_count": 6,
   "id": "a36d0f70-70a1-407b-b521-af4a84238ff0",
   "metadata": {},
   "outputs": [
    {
     "name": "stdin",
     "output_type": "stream",
     "text": [
      "Enter the integer : 5\n",
      "Enter the integer : 7\n"
     ]
    },
    {
     "name": "stdout",
     "output_type": "stream",
     "text": [
      "-0.0003072\n"
     ]
    }
   ],
   "source": [
    "#Mixed Operators\n",
    "\n",
    "c=int(input(\"Enter the integer :\"))\n",
    "d=int(input(\"Enter the integer :\"))\n",
    "dom=(c + d) * (c - d) / (c ** d)\n",
    "print(dom)"
   ]
  },
  {
   "cell_type": "code",
   "execution_count": 8,
   "id": "132f89e7-9b3b-4318-8b0e-b58e41f636f6",
   "metadata": {},
   "outputs": [
    {
     "name": "stdout",
     "output_type": "stream",
     "text": [
      "The Value of variable p swapping is:  53\n",
      "The Value of variable a swapping is:  98\n",
      "98\n",
      "96\n",
      "53\n"
     ]
    }
   ],
   "source": [
    "#Swapping\n",
    "p = 53\n",
    "a = 98\n",
    "c = 96\n",
    "print(\"The Value of variable p swapping is: \", p)\n",
    "print(\"The Value of variable a swapping is: \", a)\n",
    "p,a,c=a,c,p\n",
    "print(p)\n",
    "print(a)\n",
    "print(c)"
   ]
  },
  {
   "cell_type": "code",
   "execution_count": 9,
   "id": "daa199bd-6224-4c03-b08a-6953a56e7898",
   "metadata": {},
   "outputs": [
    {
     "name": "stdin",
     "output_type": "stream",
     "text": [
      "Enter the first number : 4\n",
      "Enter the second number : 5\n",
      "Enter the third number : 7\n"
     ]
    },
    {
     "name": "stdout",
     "output_type": "stream",
     "text": [
      "a is not between b and c\n"
     ]
    }
   ],
   "source": [
    "#Complex Comparison\n",
    "\n",
    "a=int(input(\"Enter the first number :\"))\n",
    "b=int(input(\"Enter the second number :\"))\n",
    "c=int(input(\"Enter the third number :\"))\n",
    "\n",
    "if b<a<c :\n",
    "     print(\"a is strictly between b and c\")\n",
    "else:\n",
    "     print(\"a is not strictly between b and c\")"
   ]
  },
  {
   "cell_type": "code",
   "execution_count": 12,
   "id": "f29e54ed-92e2-45ca-bd61-3523af8c5bf9",
   "metadata": {},
   "outputs": [
    {
     "name": "stdin",
     "output_type": "stream",
     "text": [
      "Enter the seconds : 356\n"
     ]
    },
    {
     "name": "stdout",
     "output_type": "stream",
     "text": [
      "Hours: 0\n",
      "Minutes: 356\n",
      "Seconds: 56\n"
     ]
    }
   ],
   "source": [
    "#convert second\n",
    "Second=int(input(\"Enter the seconds :\"))\n",
    "hours=Second//3600\n",
    "minute=Second%3600\n",
    "Second=Second%60\n",
    "print(f\"Hours: {hours}\")\n",
    "print(f\"Minutes: {minute}\")\n",
    "print(f\"Seconds: {Second}\")"
   ]
  },
  {
   "cell_type": "code",
   "execution_count": 13,
   "id": "797e564d-45fd-4c67-b997-93eeb04b0302",
   "metadata": {},
   "outputs": [
    {
     "name": "stdin",
     "output_type": "stream",
     "text": [
      "Enter the Temperature :  346\n"
     ]
    },
    {
     "name": "stdout",
     "output_type": "stream",
     "text": [
      "346.0 degrees Celsius is equal to 619.15 Kelvin\n",
      "346.0 degrees Celsius is equal to 654.8 Fahrenheit\n"
     ]
    }
   ],
   "source": [
    "#Temperature Converter\n",
    "Celsius= float(input(\"Enter the Temperature : \"))\n",
    "Kelvin=Celsius+273.15\n",
    "Fahrenheit=Celsius*9/5+32\n",
    "print(f\"{Celsius} degrees Celsius is equal to {Kelvin} Kelvin\")\n",
    "print(f\"{Celsius} degrees Celsius is equal to {Fahrenheit} Fahrenheit\")"
   ]
  },
  {
   "cell_type": "code",
   "execution_count": 14,
   "id": "e3ed94e1-1616-4f57-aa0d-c472d9b2aae9",
   "metadata": {},
   "outputs": [
    {
     "name": "stdin",
     "output_type": "stream",
     "text": [
      "Enter the radius of sphere:  40\n"
     ]
    },
    {
     "name": "stdout",
     "output_type": "stream",
     "text": [
      "The volume of the sphere is: 201061\n"
     ]
    }
   ],
   "source": [
    "#Volume of a Sphere\n",
    "import math\n",
    "radius = float(input(\"Enter the radius of sphere: \"))\n",
    "volume = int(math.pi*(radius**3))\n",
    "\n",
    "print(f\"The volume of the sphere is: {volume}\")"
   ]
  },
  {
   "cell_type": "code",
   "execution_count": 15,
   "id": "443eee96-3c10-4a8b-ae8c-d489abd882fa",
   "metadata": {},
   "outputs": [
    {
     "name": "stdin",
     "output_type": "stream",
     "text": [
      "Enter the height of the triangle:  7\n",
      "Enter the base of the triangle:  7\n"
     ]
    },
    {
     "name": "stdout",
     "output_type": "stream",
     "text": [
      "Area of the triangle is: 49\n"
     ]
    }
   ],
   "source": [
    "# Triangle Area Calculator**\n",
    "height= int(input(\"Enter the height of the triangle: \" ) )\n",
    "base =int(input(\"Enter the base of the triangle: \"))\n",
    "area = int(height*base)\n",
    "\n",
    "print(f\"Area of the triangle is: {area}\")"
   ]
  },
  {
   "cell_type": "code",
   "execution_count": 16,
   "id": "4dfb7391-5c30-4e8c-8e0f-eca79bf7f831",
   "metadata": {},
   "outputs": [
    {
     "name": "stdin",
     "output_type": "stream",
     "text": [
      "Enter the time duration in seconds:  3500\n"
     ]
    },
    {
     "name": "stdout",
     "output_type": "stream",
     "text": [
      "20 seconds is equal to 0 hours, 58 minutes, and 20 seconds\n"
     ]
    }
   ],
   "source": [
    "seconds = int(input(\"Enter the time duration in seconds: \"))\n",
    "hours =seconds // 3600\n",
    "minutes =(seconds%3600) // 60\n",
    "seconds = seconds%60\n",
    "print(f\"{seconds} seconds is equal to {hours} hours, {minutes} minutes, and {seconds} seconds\")"
   ]
  },
  {
   "cell_type": "code",
   "execution_count": 21,
   "id": "2e3cbde3-bc02-4494-9936-568a46adeb5c",
   "metadata": {},
   "outputs": [
    {
     "name": "stdout",
     "output_type": "stream",
     "text": [
      "The greatest number is 16\n"
     ]
    }
   ],
   "source": [
    "a= 10\n",
    "b= 16\n",
    "c = 14\n",
    "if (a >= b) and (a >= c):\n",
    "   greatest = a\n",
    "elif (b >= a) and (b >= c):\n",
    "   greatest  = b\n",
    "else:\n",
    "   greatest  = c\n",
    "\n",
    "print(\"The greatest number is\", greatest)"
   ]
  },
  {
   "cell_type": "code",
   "execution_count": 25,
   "id": "a72eb9cc-c423-4c49-8ff4-0c7b50cb3de1",
   "metadata": {},
   "outputs": [
    {
     "name": "stdin",
     "output_type": "stream",
     "text": [
      "Enter a character:  b\n"
     ]
    },
    {
     "name": "stdout",
     "output_type": "stream",
     "text": [
      "b is a Consonant\n"
     ]
    }
   ],
   "source": [
    "ch = input(\"Enter a character: \")\n",
    "\n",
    "if(ch=='A' or ch=='a' or ch=='E' or ch =='e' or ch=='I'\n",
    " or ch=='i' or ch=='O' or ch=='o' or ch=='U' or ch=='u'):\n",
    "    print(ch, \"is a Vowel\")\n",
    "else:\n",
    "    print(ch, \"is a Consonant\")"
   ]
  },
  {
   "cell_type": "code",
   "execution_count": 1,
   "id": "822c5099-cca6-422d-ace6-9fcea37288aa",
   "metadata": {},
   "outputs": [
    {
     "name": "stdin",
     "output_type": "stream",
     "text": [
      " enter your age 5\n"
     ]
    },
    {
     "name": "stdout",
     "output_type": "stream",
     "text": [
      "you are adult\n"
     ]
    }
   ],
   "source": [
    "  age=int(input(\" enter your age\"))\n",
    "if age>=13 and age>=19 :\n",
    "    print(\"you are teenager\")\n",
    "    elif age>=20 and age>=29\n",
    "    print(\"you are  Twenties\")\n",
    "    else\n",
    "    print(\"you are adult\")\n",
    "\n"
   ]
  },
  {
   "cell_type": "code",
   "execution_count": 46,
   "id": "2935c361-ea0f-46bb-8aba-4ba179f90da6",
   "metadata": {},
   "outputs": [
    {
     "name": "stdin",
     "output_type": "stream",
     "text": [
      "enter a number: 0\n"
     ]
    },
    {
     "name": "stdout",
     "output_type": "stream",
     "text": [
      "no is even\n"
     ]
    }
   ],
   "source": [
    "#even or odd\n",
    "num=int(input(\"enter a number:\"))\n",
    "if(num % 2)== 0:\n",
    "    print(\"no is even\")\n",
    "else:\n",
    "    print(\"no is odd\")\n"
   ]
  },
  {
   "cell_type": "code",
   "execution_count": null,
   "id": "a765f1fa-b6c0-4476-ad1a-4243c55e0091",
   "metadata": {},
   "outputs": [],
   "source": []
  }
 ],
 "metadata": {
  "kernelspec": {
   "display_name": "Python 3 (ipykernel)",
   "language": "python",
   "name": "python3"
  },
  "language_info": {
   "codemirror_mode": {
    "name": "ipython",
    "version": 3
   },
   "file_extension": ".py",
   "mimetype": "text/x-python",
   "name": "python",
   "nbconvert_exporter": "python",
   "pygments_lexer": "ipython3",
   "version": "3.12.2"
  }
 },
 "nbformat": 4,
 "nbformat_minor": 5
}
