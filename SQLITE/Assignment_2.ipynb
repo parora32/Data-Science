{
 "cells": [
  {
   "cell_type": "code",
   "execution_count": null,
   "id": "52f4f6e0-b4c1-47a9-8513-130f95bb5af4",
   "metadata": {},
   "outputs": [],
   "source": [
    "import sqlite3\n",
    "\n",
    "# Connect to the SQLite database.\n",
    "conn = sqlite3.connect('email_counts.db')\n",
    "\n",
    "# Create a cursor object to interact with the database\n",
    "cursor = conn.cursor()\n",
    "\n",
    "# Create the Counts table if not exists\n",
    "cursor.execute('''\n",
    "CREATE TABLE IF NOT EXISTS Counts (\n",
    "  org TEXT,\n",
    "  count INTEGER\n",
    ")\n",
    "''')\n",
    "\n",
    "# Ask user for the file name\n",
    "file_name = input(\"Enter file name: \")\n",
    "\n",
    "# Read the mbox.txt file\n",
    "try:\n",
    "    with open(file_name) as f:\n",
    "        for line in f:\n",
    "            if line.startswith('From '):\n",
    "                email = line.split()[1]\n",
    "                domain = email.split('@')[-1]\n",
    "                # Check if domain already exists in database\n",
    "                cursor.execute('SELECT count FROM Counts WHERE org = ?', (domain,))\n",
    "                row = cursor.fetchone()\n",
    "                if row is None:\n",
    "                    cursor.execute('INSERT INTO Counts (org, count) VALUES (?, 1)', (domain,))\n",
    "                else:\n",
    "                    cursor.execute('UPDATE Counts SET count = count + 1 WHERE org = ?', (domain,))\n",
    "except FileNotFoundError:\n",
    "    print(\"File not found:\", file_name)\n",
    "    exit()\n",
    "\n",
    "# Commit changes to the database\n",
    "conn.commit()\n",
    "\n",
    "# Retrieve and print the counts\n",
    "cursor.execute('SELECT org, count FROM Counts ORDER BY count DESC')\n",
    "print(\"Counts:\")\n",
    "for row in cursor.fetchall():\n",
    "    print(row[0], row[1])\n",
    "\n",
    "# Close the cursor and the connection\n",
    "cursor.close()\n",
    "conn.close()"
   ]
  }
 ],
 "metadata": {
  "kernelspec": {
   "display_name": "Python 3 (ipykernel)",
   "language": "python",
   "name": "python3"
  },
  "language_info": {
   "codemirror_mode": {
    "name": "ipython",
    "version": 3
   },
   "file_extension": ".py",
   "mimetype": "text/x-python",
   "name": "python",
   "nbconvert_exporter": "python",
   "pygments_lexer": "ipython3",
   "version": "3.12.2"
  }
 },
 "nbformat": 4,
 "nbformat_minor": 5
}
