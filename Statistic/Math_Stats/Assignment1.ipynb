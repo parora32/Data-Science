{
 "cells": [
  {
   "cell_type": "code",
   "execution_count": 1,
   "id": "cb92702d-d467-45d6-b66a-149751a5af8c",
   "metadata": {},
   "outputs": [
    {
     "name": "stdout",
     "output_type": "stream",
     "text": [
      "Cartesian product of A and S\n",
      "{'c', 'b', 'a'} X {1, 2, 3}:{('a', 3), ('c', 2), ('a', 2), ('b', 2), ('c', 1), ('b', 1), ('c', 3), ('a', 1), ('b', 3)}\n"
     ]
    }
   ],
   "source": [
    "\n",
    "#1. Find the Cartesian Product of the below given sets in the below cell. (In Python Code)\n",
    "\n",
    "#A = set(['a','b','c'])\n",
    "\n",
    "#S = {1,2,3}\n",
    "\n",
    "A = set(['a','b','c'])\n",
    "\n",
    "S = {1,2,3}\n",
    "\n",
    "def cartesian_product(S1,S2):\n",
    "    result = set()\n",
    "    for i in S1:\n",
    "        for j in S2:\n",
    "            result.add(tuple([i,j]))\n",
    "    return (result)\n",
    "\n",
    "C = cartesian_product(A,S)\n",
    "print(\"Cartesian product of A and S\\n{} X {}:{}\".format(A,S,C))\n",
    "\n"
   ]
  },
  {
   "cell_type": "code",
   "execution_count": 2,
   "id": "d3ca1e11-8711-43f9-8abf-7a540afa50bb",
   "metadata": {},
   "outputs": [
    {
     "name": "stdout",
     "output_type": "stream",
     "text": [
      "All Permutations: [('Green', 'Blue', 'Red'), ('Green', 'Red', 'Blue'), ('Blue', 'Green', 'Red'), ('Blue', 'Red', 'Green'), ('Red', 'Green', 'Blue'), ('Red', 'Blue', 'Green')]\n",
      "Number of Permutations: 6\n"
     ]
    }
   ],
   "source": [
    "# 2. Find all the possible permutations and number of permutations of A\n",
    "\n",
    "#A = {'Red','Green','Blue'}\n",
    "\n",
    "from itertools import permutations \n",
    "\n",
    "A = {'Red', 'Green', 'Blue'}\n",
    "\n",
    "# Find all possible permutations\n",
    "all_permutations = list(permutations(A))\n",
    "\n",
    "# Find the number of permutations\n",
    "num_permutations = len(all_permutations)\n",
    "\n",
    "print(\"All Permutations:\", all_permutations)\n",
    "print(\"Number of Permutations:\", num_permutations)\n"
   ]
  },
  {
   "cell_type": "code",
   "execution_count": null,
   "id": "e57b226b-9b08-410f-8be2-ae5a1fdf2b9d",
   "metadata": {},
   "outputs": [],
   "source": [
    "3. Research Question on Hypothesis Testing\n",
    "\n",
    "In previous years, 52% of parents believed that electronics and social media was the cause of their teenager’s lack of sleep. Do more parents today believe that their teenager’s lack of sleep is caused due to electronics and social media?\n",
    "\n",
    "**Population**: Parents with a teenager (age 13-18)  \n",
    "**Parameter of Interest**: p  \n",
    "\n",
    "**Null Hypothesis:** p = 0.52  \n",
    "**Alternative Hypthosis:** p > 0.52 (note that this is a one-sided test)\n",
    "\n",
    "**Data**: 1018 people were surveyed. 56% of those who were surveyed believe that their teenager’s lack of sleep is caused due to electronics and social media."
   ]
  },
  {
   "cell_type": "code",
   "execution_count": 21,
   "id": "0e1e6680-624d-4b99-a810-d4a4e0edd7fb",
   "metadata": {},
   "outputs": [
    {
     "name": "stdout",
     "output_type": "stream",
     "text": [
      "Z-score: 2.5545334262132955\n",
      "p-value: 0.0053165109918223985\n"
     ]
    }
   ],
   "source": [
    "import scipy.stats as stats\n",
    "\n",
    "# Given data\n",
    "p_null = 0.52  # proportion under null hypothesis\n",
    "p_sample = 0.56  # sample proportion\n",
    "n = 1018  # sample size\n",
    "\n",
    "# Calculate the Z-score\n",
    "Z = (p_sample - p_null) / ( (p_null * (1 - p_null) / n)**0.5 )\n",
    "\n",
    "# Calculate the p-value\n",
    "p_value = 1 - stats.norm.cdf(Z)  # For a one-sided test\n",
    "\n",
    "# Output the results\n",
    "print(\"Z-score:\", Z)\n",
    "print(\"p-value:\", p_value)"
   ]
  },
  {
   "cell_type": "code",
   "execution_count": null,
   "id": "8b26d3bf-1365-4f20-8b99-7793ca3018ae",
   "metadata": {},
   "outputs": [],
   "source": [
    " What is your Conclusion of the hypothesis test?\n",
    " Conclusion of the hypothesis test:-Since the calculated p-value of the z-test is pretty small, we can reject the Null hypothesis that the percentage of parents, who believe that their teenager’s lack of \n",
    "sleep is caused due to electronics and social media, is as same as previous years' estimate i.e. 52%.\n",
    "\n",
    "Although, we do not accept the alternate hypothesis, this informally means that there is a good chance of this proportion being more than 52%.\n"
   ]
  },
  {
   "cell_type": "code",
   "execution_count": 3,
   "id": "b7edae89-6613-4798-8b01-019cd7ecb532",
   "metadata": {},
   "outputs": [
    {
     "name": "stdout",
     "output_type": "stream",
     "text": [
      "Set S1: {0, 3, 6, 9, 12, 15, 18, 21, 24, 27, 30}\n",
      "Set S2: {0, 5, 10, 15, 20, 25, 30}\n",
      "Difference of S1 and S2 i.e. S2/S1: {25, 10, 20, 5}\n",
      "Difference of S2 and S1 i.e. S1/S2: {3, 6, 9, 12, 18, 21, 24, 27}\n"
     ]
    }
   ],
   "source": [
    "# 4. Calculate the set difference between the 2 sets (set1 - multipes of 3 upto a range of 31 and \n",
    "    #set2 - multiples of upto a range of 31) \n",
    "\n",
    "S1 = set([x for x in range(31) if x%3==0])\n",
    "print (\"Set S1:\", S1)\n",
    "S2 = set([x for x in range(31) if x%5==0])\n",
    "print (\"Set S2:\", S2)\n",
    "S_difference = S2-S1\n",
    "print(\"Difference of S1 and S2 i.e. S2/S1:\", S_difference)\n",
    "\n",
    "S_difference = S1.difference(S2)\n",
    "print(\"Difference of S2 and S1 i.e. S1/S2:\", S_difference)\n"
   ]
  },
  {
   "cell_type": "code",
   "execution_count": 62,
   "id": "7c212af6-1c9f-427d-b868-f8147a619eeb",
   "metadata": {},
   "outputs": [
    {
     "name": "stdout",
     "output_type": "stream",
     "text": [
      "[73, 18, 79, 94, 1, 8, 56, 77, 96, 10, 47, 96, 49, 39, 75, 58, 13, 30, 59, 33, 79, 31, 35, 73, 72, 96, 16, 88, 11, 50, 68, 89, 38, 100, 3, 40, 6, 78, 49, 31, 78, 59, 38, 66, 16, 4, 55, 13, 11, 95]\n"
     ]
    }
   ],
   "source": [
    "# 5. Calculate a function to generate random arrays with range of (1,100) and the naive functions to calculate \n",
    "#Mean, Varience and Standard deviation for the array generated\n",
    "\n",
    "def random_array(num_elements,lower=1,upper=100):\n",
    "    \"\"\"\n",
    "    \"\"\"\n",
    "    from random import randint\n",
    "    lst = []\n",
    "    for _ in range(num_elements):\n",
    "        lst.append(randint(lower,upper))\n",
    "    return lst\n",
    "\n",
    "def mean(array):\n",
    "    \"\"\"\n",
    "    Computes mean\n",
    "    \"\"\"\n",
    "    length = len(array)\n",
    "    sum = 0\n",
    "    for i in range(length):\n",
    "        sum+=array[i]\n",
    "    mean = sum/length\n",
    "    return mean\n",
    "    \n",
    "\n",
    "def variance(array):\n",
    "    \"\"\"\n",
    "    Computes variance\n",
    "    \"\"\"\n",
    "    length = len(array)\n",
    "    avg = mean(array)\n",
    "    sumsq = 0\n",
    "    for i in range(length):\n",
    "        sumsq+=(array[i]-avg)**2\n",
    "    variance = sumsq/length\n",
    "    return variance\n",
    "\n",
    "def std_dev(array):\n",
    "    \"\"\"\n",
    "    Computes std. deviation\n",
    "    \"\"\"\n",
    "    from math import sqrt\n",
    "    return (sqrt(variance(array)))\n",
    "    \n",
    "\n",
    "arr = random_array(50)\n",
    "print(arr)\n",
    "\n",
    "\n"
   ]
  },
  {
   "cell_type": "code",
   "execution_count": 63,
   "id": "154d83db-9cf4-4de7-86f7-013e6334932c",
   "metadata": {},
   "outputs": [
    {
     "data": {
      "text/plain": [
       "49.98"
      ]
     },
     "execution_count": 63,
     "metadata": {},
     "output_type": "execute_result"
    }
   ],
   "source": [
    "mean(arr)"
   ]
  },
  {
   "cell_type": "code",
   "execution_count": 60,
   "id": "c83912fa-5730-4562-828a-bb8f1bc546f6",
   "metadata": {},
   "outputs": [
    {
     "data": {
      "text/plain": [
       "848.4624"
      ]
     },
     "execution_count": 60,
     "metadata": {},
     "output_type": "execute_result"
    }
   ],
   "source": [
    "variance(arr)"
   ]
  },
  {
   "cell_type": "code",
   "execution_count": 61,
   "id": "90eae002-fa05-4f3b-a730-de4a7269db3e",
   "metadata": {},
   "outputs": [
    {
     "data": {
      "text/plain": [
       "29.128377915702757"
      ]
     },
     "execution_count": 61,
     "metadata": {},
     "output_type": "execute_result"
    }
   ],
   "source": [
    "std_dev(arr)"
   ]
  },
  {
   "cell_type": "code",
   "execution_count": null,
   "id": "3ef4e37f-314d-45ce-92a7-1d1654ac82c2",
   "metadata": {},
   "outputs": [],
   "source": []
  },
  {
   "cell_type": "code",
   "execution_count": null,
   "id": "74dee1a9-4aa3-42dd-bf52-6c81ae87d9b3",
   "metadata": {},
   "outputs": [],
   "source": []
  },
  {
   "cell_type": "code",
   "execution_count": null,
   "id": "7f3b9dcb-4957-4a40-90a0-58973646b4c5",
   "metadata": {},
   "outputs": [],
   "source": []
  }
 ],
 "metadata": {
  "kernelspec": {
   "display_name": "Python 3 (ipykernel)",
   "language": "python",
   "name": "python3"
  },
  "language_info": {
   "codemirror_mode": {
    "name": "ipython",
    "version": 3
   },
   "file_extension": ".py",
   "mimetype": "text/x-python",
   "name": "python",
   "nbconvert_exporter": "python",
   "pygments_lexer": "ipython3",
   "version": "3.12.2"
  }
 },
 "nbformat": 4,
 "nbformat_minor": 5
}
