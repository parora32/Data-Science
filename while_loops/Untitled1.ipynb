{
 "cells": [
  {
   "cell_type": "code",
   "execution_count": 20,
   "id": "7464b884-7ab8-48a6-8323-5cf117a35d86",
   "metadata": {},
   "outputs": [
    {
     "name": "stdin",
     "output_type": "stream",
     "text": [
      "Enter First Number : 3\n",
      "Enter Second Number : 4\n",
      "Enter Third Number : 5\n"
     ]
    },
    {
     "name": "stdout",
     "output_type": "stream",
     "text": [
      "Max of Three Numbers is : 5.0\n"
     ]
    }
   ],
   "source": [
    "def find_max(a, b, c):\n",
    " if a >= b and a >= c:\n",
    "    return a\n",
    " elif b >= a and b >= c:\n",
    "    return b\n",
    " else:\n",
    "    return c\n",
    "x=float(input(\"Enter First Number :\"))\n",
    "y=float(input(\"Enter Second Number :\"))\n",
    "z=float(input(\"Enter Third Number :\"))\n",
    "print(\"Max of Three Numbers is :\", find_max(x, y, z))"
   ]
  },
  {
   "cell_type": "markdown",
   "id": "2e4f0f63-b59f-429b-b1f6-9ee41e2c3f78",
   "metadata": {},
   "source": [
    " def sum_list(my_list):\n",
    "    temp=0\n",
    "    for item in my_list:\n",
    "        temp+=item\n",
    "    return temp\n",
    "length=int(input (\"Enter List length:\"))\n",
    "number_list=[]\n",
    "for list in range(length):\n",
    "   temp=int(input (\"Enter List Item:\"))\n",
    "   number_list.append(temp)\n",
    "\n",
    "total=sum_list(number_list)\n",
    "print(\"Sum of All the Number in List is:\",total)\n",
    "    "
   ]
  },
  {
   "cell_type": "code",
   "execution_count": 1,
   "id": "67611b37-063e-4f41-be23-ce5bbfe0cdf6",
   "metadata": {},
   "outputs": [
    {
     "name": "stdout",
     "output_type": "stream",
     "text": [
      "120\n"
     ]
    }
   ],
   "source": [
    "def multiply_list(numbers):\n",
    "    result = 1\n",
    "    for num in numbers:\n",
    "        result *= num\n",
    "    return result\n",
    "my_list = [1, 2, 3, 4, 5]\n",
    "print(multiply_list(my_list))"
   ]
  },
  {
   "cell_type": "code",
   "execution_count": 7,
   "id": "ed622913-84a3-47d9-b838-574b018a69ab",
   "metadata": {},
   "outputs": [
    {
     "name": "stdout",
     "output_type": "stream",
     "text": [
      "arorakalap\n"
     ]
    }
   ],
   "source": [
    " inputStr='palakarora'\n",
    "result=\"\"\n",
    "for i in range(len(inputStr)-1,-1,-1):\n",
    "    result+=inputStr[i]\n",
    "print(result)"
   ]
  },
  {
   "cell_type": "code",
   "execution_count": 9,
   "id": "24ea0ac6-bfa6-40c3-9d4e-03d77b8dfd7a",
   "metadata": {},
   "outputs": [
    {
     "name": "stdout",
     "output_type": "stream",
     "text": [
      "Factorial of 8 is: 40320\n"
     ]
    }
   ],
   "source": [
    "def factorial(n):\n",
    "    if n < 0:\n",
    "        return \"Factorial is not defined for negative numbers\"\n",
    "    elif n == 0 or n == 1:\n",
    "        return 1\n",
    "    else:\n",
    "        result = 1\n",
    "        for i in range(2, n + 1):\n",
    "            result *= i\n",
    "        return result\n",
    "\n",
    "\n",
    "num = 8\n",
    "print(\"Factorial of\", num, \"is:\", factorial(num))"
   ]
  },
  {
   "cell_type": "code",
   "execution_count": 11,
   "id": "87b8b427-bdf4-45b7-891a-cd3c25660a68",
   "metadata": {},
   "outputs": [
    {
     "name": "stdout",
     "output_type": "stream",
     "text": [
      "Is 20 within the range [15, 11]?  False\n"
     ]
    }
   ],
   "source": [
    "def is_within_range(number, start, end):\n",
    "    return start <= number <= end\n",
    "\n",
    "\n",
    "num = 20\n",
    "start_range = 15\n",
    "end_range = 11\n",
    "print(f\"Is {num} within the range [{start_range}, {end_range}]? \", is_within_range(num, start_range, end_range))\n",
    "    "
   ]
  },
  {
   "cell_type": "code",
   "execution_count": 13,
   "id": "4f47730e-c221-4d27-b152-12096baf128d",
   "metadata": {},
   "outputs": [
    {
     "name": "stdout",
     "output_type": "stream",
     "text": [
      "Number of upper case letters: 3\n",
      "Number of lower case letters: 7\n"
     ]
    }
   ],
   "source": [
    "def count_upper_lower(string):\n",
    "    upper_count = 0\n",
    "    lower_count = 0\n",
    "\n",
    "    for char in string:\n",
    "        if char.isupper():\n",
    "            upper_count += 1\n",
    "        elif char.islower():\n",
    "            lower_count += 1\n",
    "\n",
    "    return upper_count, lower_count\n",
    "\n",
    "\n",
    "input_str = \"PAlak Arora\"\n",
    "upper_count, lower_count = count_upper_lower(input_str)\n",
    "print(\"Number of upper case letters:\", upper_count)\n",
    "print(\"Number of lower case letters:\", lower_count)"
   ]
  },
  {
   "cell_type": "code",
   "execution_count": 14,
   "id": "de371a21-8965-45fb-bad1-d6c4321beb1c",
   "metadata": {},
   "outputs": [
    {
     "name": "stdout",
     "output_type": "stream",
     "text": [
      "Original list: [1, 2, 3, 4, 3, 2, 1, 5]\n",
      "List with distinct elements: [1, 2, 3, 4, 5]\n"
     ]
    }
   ],
   "source": [
    "def get_distinct_elements(input_list):\n",
    "    return list(set(input_list))\n",
    "my_list = [1, 2, 3, 4, 3, 2, 1, 5]\n",
    "distinct_elements = get_distinct_elements(my_list)\n",
    "print(\"Original list:\", my_list)\n",
    "print(\"List with distinct elements:\", distinct_elements)"
   ]
  },
  {
   "cell_type": "code",
   "execution_count": 17,
   "id": "2dfad766-aae5-4270-9482-fc89a3baf71a",
   "metadata": {},
   "outputs": [
    {
     "name": "stdout",
     "output_type": "stream",
     "text": [
      "19 is a prime number\n"
     ]
    }
   ],
   "source": [
    "def is_prime(number):\n",
    "    if number <= 1:\n",
    "        return False\n",
    "    elif number <= 3:\n",
    "        return True\n",
    "    elif number % 2 == 0 or number % 3 == 0:\n",
    "        return False\n",
    "    i = 5\n",
    "    while i * i <= number:\n",
    "        if number % i == 0 or number % (i + 2) == 0:\n",
    "            return False\n",
    "        i += 6\n",
    "    return True\n",
    "num = 19\n",
    "if is_prime(num):\n",
    "    print(num, \"is a prime number\")\n",
    "else:\n",
    "    print(num, \"is not a prime number\")"
   ]
  },
  {
   "cell_type": "code",
   "execution_count": 18,
   "id": "e866e653-ee0a-428b-99fc-7033d15f0699",
   "metadata": {},
   "outputs": [
    {
     "name": "stdout",
     "output_type": "stream",
     "text": [
      "Even numbers:\n",
      "2\n",
      "4\n",
      "6\n",
      "8\n",
      "10\n"
     ]
    }
   ],
   "source": [
    "def print_even_numbers(input_list):\n",
    "    print(\"Even numbers:\")\n",
    "    for num in input_list:\n",
    "        if num % 2 == 0:\n",
    "            print(num)\n",
    "my_list = [1, 2, 3, 4, 5, 6, 7, 8, 9, 10]\n",
    "print_even_numbers(my_list)"
   ]
  },
  {
   "cell_type": "code",
   "execution_count": 26,
   "id": "8664e791-b051-4d76-9540-a85cce6f5132",
   "metadata": {},
   "outputs": [
    {
     "name": "stdout",
     "output_type": "stream",
     "text": [
      "30 is not a perfect number\n"
     ]
    }
   ],
   "source": [
    "def is_perfect_number(number):\n",
    "     if number <= 0:\n",
    "        return False\n",
    "\n",
    "     divisor_sum = 0\n",
    "     for i in range(1, number):\n",
    "        if number % i == 0:\n",
    "            divisor_sum += i\n",
    "\n",
    "     return divisor_sum == number\n",
    "\n",
    "\n",
    "num = 30\n",
    "if is_perfect_number(num):\n",
    "    print(num, \"is a perfect number\")\n",
    "else:\n",
    "    print(num, \"is not a perfect number\")"
   ]
  },
  {
   "cell_type": "code",
   "execution_count": 33,
   "id": "77afd47a-fd3b-4fd8-82f1-99c9e5ae1766",
   "metadata": {},
   "outputs": [
    {
     "ename": "SyntaxError",
     "evalue": "invalid non-printable character U+202F (4004154178.py, line 2)",
     "output_type": "error",
     "traceback": [
      "\u001b[1;36m  Cell \u001b[1;32mIn[33], line 2\u001b[1;36m\u001b[0m\n\u001b[1;33m    if (string == string[::-1]) :\u001b[0m\n\u001b[1;37m    ^\u001b[0m\n\u001b[1;31mSyntaxError\u001b[0m\u001b[1;31m:\u001b[0m invalid non-printable character U+202F\n"
     ]
    }
   ],
   "source": [
    "def isPalindrome(string): \n",
    "    if(string == string[::-1]) : \n",
    "        return \"The string is a palindrome.\" \n",
    "    else: \n",
    "        return \"The string is not a palindrome.\" \n",
    " \n",
    " \n",
    "string = input (\"Enter string: \") \n",
    " \n",
    "print(isPalindrome(string))"
   ]
  },
  {
   "cell_type": "code",
   "execution_count": 8,
   "id": "770bef44-6a87-4b4d-a7c0-3be5cffe8d94",
   "metadata": {},
   "outputs": [
    {
     "name": "stdin",
     "output_type": "stream",
     "text": [
      "enter the row number 4\n"
     ]
    },
    {
     "name": "stdout",
     "output_type": "stream",
     "text": [
      "1\n",
      "11\n",
      "121\n",
      "1331\n"
     ]
    }
   ],
   "source": [
    "n=int(input(\"enter the row number\"))\n",
    "list1=[]\n",
    "for i in range(n):\n",
    "    temp_list=[]\n",
    "    for j in range(i+1):\n",
    "        if j==0 or j==i:\n",
    "            temp_list.append(1)\n",
    "        else:\n",
    "            temp_list.append(list1[i-1][j-1] + list1[i-1][j])\n",
    "    list1.append(temp_list)\n",
    "for i in range (n):\n",
    "    for j in range(n-i-1):\n",
    "        print(\"\", end=\"\")\n",
    "    for j in range(i+1):\n",
    "        print(list1[i][j], end=\"\")\n",
    "    print()\n"
   ]
  },
  {
   "cell_type": "code",
   "execution_count": 10,
   "id": "ef89f4b8-3723-4c72-ac45-072bb634c4a9",
   "metadata": {},
   "outputs": [
    {
     "name": "stdout",
     "output_type": "stream",
     "text": [
      "True\n"
     ]
    }
   ],
   "source": [
    "import string\n",
    "\n",
    "def is_pangram(sentence):\n",
    "    alphabet = set(string.ascii_lowercase) \n",
    "    \n",
    "    letters = set(filter(str.isalpha, sentence.lower()))\n",
    "    return letters == alphabet\n",
    "\n",
    "\n",
    "sentence = \"The quick brown fox jumps over the lazy dog\"\n",
    "print(is_pangram(sentence))  "
   ]
  },
  {
   "cell_type": "code",
   "execution_count": 11,
   "id": "cd5333ea-56bb-4ebe-ba91-713fe299492a",
   "metadata": {},
   "outputs": [
    {
     "name": "stdin",
     "output_type": "stream",
     "text": [
      "Enter a hyphen-separated sequence of words:  palak\n"
     ]
    },
    {
     "name": "stdout",
     "output_type": "stream",
     "text": [
      "Sorted sequence: palak\n"
     ]
    }
   ],
   "source": [
    "def sort_words(sequence):\n",
    "    words = sequence.split('-')  \n",
    "    sorted_words = sorted(words)  \n",
    "    sorted_sequence = '-'.join(sorted_words) \n",
    "    return sorted_sequence\n",
    "\n",
    "# Example usage:\n",
    "input_sequence = input(\"Enter a hyphen-separated sequence of words: \")\n",
    "sorted_sequence = sort_words(input_sequence)\n",
    "print(\"Sorted sequence:\", sorted_sequence)"
   ]
  },
  {
   "cell_type": "code",
   "execution_count": 13,
   "id": "bef0bb3c-dec8-4ad1-b6cd-ea21b2c090dd",
   "metadata": {},
   "outputs": [
    {
     "name": "stdout",
     "output_type": "stream",
     "text": [
      "[1, 4, 9, 16, 25, 36, 49, 64, 81, 100, 121, 144, 169, 196, 225]\n"
     ]
    }
   ],
   "source": [
    "def squares_list():\n",
    "    return [i**2 for i in range(1, 16)]\n",
    "\n",
    "\n",
    "squares = squares_list()\n",
    "print(squares)"
   ]
  },
  {
   "cell_type": "code",
   "execution_count": 14,
   "id": "92b4c16a-95cd-4a7c-bbcd-d0135c449ddc",
   "metadata": {},
   "outputs": [
    {
     "name": "stdout",
     "output_type": "stream",
     "text": [
      "Hello, palakarora!\n"
     ]
    }
   ],
   "source": [
    "def bold_decorator(func):\n",
    "    def wrapper(*args, **kwargs):\n",
    "        return \"<b>\" + func(*args, **kwargs) + \"</b>\"\n",
    "    return wrapper\n",
    "\n",
    "def italic_decorator(func):\n",
    "    def wrapper(*args, **kwargs):\n",
    "        return \"<i>\" + func(*args, **kwargs) + \"</i>\"\n",
    "    return wrapper\n",
    "\n",
    "def underline_decorator(func):\n",
    "    def wrapper(*args, **kwargs):\n",
    "        return \"<u>\" + func(*args, **kwargs) + \"</u>\"\n",
    "    return wrapper\n",
    "def greet(name):\n",
    "    return f\"Hello, {name}!\"\n",
    "\n",
    "\n",
    "print(greet(\"palakarora\"))"
   ]
  },
  {
   "cell_type": "code",
   "execution_count": 16,
   "id": "3874876a-6f54-40e0-8d9b-36858520ad41",
   "metadata": {},
   "outputs": [
    {
     "name": "stdout",
     "output_type": "stream",
     "text": [
      "Hello, World\n"
     ]
    }
   ],
   "source": [
    "def execute_python_code(code_string):\n",
    "    try:\n",
    "        exec(code_string)\n",
    "    except Exception as e:\n",
    "        print(\"Error occurred during code execution:\", e)\n",
    "\n",
    "\n",
    "code_to_execute = \"\"\n",
    "def greet(name):\n",
    "    print(\"Hello,\", name)\n",
    "\n",
    "greet(\"World\")\n",
    "\n",
    "execute_python_code(code_to_execute)"
   ]
  },
  {
   "cell_type": "code",
   "execution_count": 18,
   "id": "3313db44-8d36-4c30-b646-7d13bfc08152",
   "metadata": {},
   "outputs": [
    {
     "name": "stdout",
     "output_type": "stream",
     "text": [
      "This is inner function\n"
     ]
    }
   ],
   "source": [
    "def outer_function():\n",
    "    def inner_function():\n",
    "        return \"This is inner function\"\n",
    "\n",
    "    result = inner_function()\n",
    "    return result\n",
    "\n",
    "\n",
    "print(outer_function()) \n"
   ]
  },
  {
   "cell_type": "code",
   "execution_count": 38,
   "id": "d64f0ab5-10f6-420e-959c-effded72d9e8",
   "metadata": {},
   "outputs": [
    {
     "name": "stdout",
     "output_type": "stream",
     "text": [
      "No of local variable are : 0\n"
     ]
    }
   ],
   "source": [
    "def sample():\n",
    "    a=2\n",
    "    a=3\n",
    "    return 0\n",
    "print(\"No of local variable are :\", sample())"
   ]
  },
  {
   "cell_type": "code",
   "execution_count": null,
   "id": "ec5d6d9d-e082-455a-b805-1b9ba281ef04",
   "metadata": {},
   "outputs": [],
   "source": []
  },
  {
   "cell_type": "code",
   "execution_count": null,
   "id": "832b42eb-1074-478e-88b8-b88561a4ff36",
   "metadata": {},
   "outputs": [],
   "source": []
  }
 ],
 "metadata": {
  "kernelspec": {
   "display_name": "Python 3 (ipykernel)",
   "language": "python",
   "name": "python3"
  },
  "language_info": {
   "codemirror_mode": {
    "name": "ipython",
    "version": 3
   },
   "file_extension": ".py",
   "mimetype": "text/x-python",
   "name": "python",
   "nbconvert_exporter": "python",
   "pygments_lexer": "ipython3",
   "version": "3.12.2"
  }
 },
 "nbformat": 4,
 "nbformat_minor": 5
}
