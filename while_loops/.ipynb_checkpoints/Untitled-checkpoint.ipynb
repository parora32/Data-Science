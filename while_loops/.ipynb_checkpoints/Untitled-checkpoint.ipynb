{
 "cells": [
  {
   "cell_type": "code",
   "execution_count": 1,
   "id": "f8e473d2-b6a6-4670-adaa-9f1bbc76a768",
   "metadata": {},
   "outputs": [
    {
     "name": "stdout",
     "output_type": "stream",
     "text": [
      "1\n",
      "2\n",
      "3\n",
      "4\n",
      "5\n"
     ]
    }
   ],
   "source": [
    "my_list = [1, 2, 3, 4, 5]\n",
    "for element in my_list:\n",
    "    print(element)"
   ]
  },
  {
   "cell_type": "code",
   "execution_count": 2,
   "id": "24276edd-86eb-4934-b3b5-180a02240383",
   "metadata": {},
   "outputs": [
    {
     "name": "stdin",
     "output_type": "stream",
     "text": [
      "Enter a string:  palak\n"
     ]
    },
    {
     "name": "stdout",
     "output_type": "stream",
     "text": [
      "Length of the input string is: 5\n"
     ]
    }
   ],
   "source": [
    "str = input(\"Enter a string: \")\n",
    "print(\"Length of the input string is:\", len(str))"
   ]
  },
  {
   "cell_type": "code",
   "execution_count": 10,
   "id": "5304dd0a-7301-485e-b06b-5e8a69d2b683",
   "metadata": {},
   "outputs": [
    {
     "name": "stdout",
     "output_type": "stream",
     "text": [
      "Hello, World!\n"
     ]
    }
   ],
   "source": [
    "\n",
    "string1 = \"Hello, \"\n",
    "string2 = \"World!\"\n",
    "string3=string1+string2\n",
    "\n",
    "print(string3)"
   ]
  },
  {
   "cell_type": "code",
   "execution_count": 12,
   "id": "a98ce353-61f2-4e90-b6c6-c77c57a741d2",
   "metadata": {},
   "outputs": [
    {
     "name": "stdout",
     "output_type": "stream",
     "text": [
      "The string is a palindrome.\n"
     ]
    }
   ],
   "source": [
    "my_string = \"mom\"\n",
    "if (my_string):\n",
    "    print(\"The string is a palindrome.\")\n",
    "else:\n",
    "    print(\"The string is not a palindrome.\")"
   ]
  },
  {
   "cell_type": "code",
   "execution_count": 14,
   "id": "c721c9e7-3c89-419c-8965-819340971527",
   "metadata": {},
   "outputs": [
    {
     "name": "stdout",
     "output_type": "stream",
     "text": [
      "1\n"
     ]
    }
   ],
   "source": [
    "count = 0\n",
    "\n",
    "my_string = \"farmer\"\n",
    "my_char = \"m\"\n",
    "\n",
    "for i in my_string:\n",
    "    if i == my_char:\n",
    "        count += 1\n",
    "\n",
    "print(count)"
   ]
  },
  {
   "cell_type": "code",
   "execution_count": 17,
   "id": "abb3e77d-be4f-4193-a55e-e05ea478edb9",
   "metadata": {},
   "outputs": [
    {
     "name": "stdout",
     "output_type": "stream",
     "text": [
      "[2, 4, 5, 10, 20]\n"
     ]
    }
   ],
   "source": [
    "duplicate = [2, 4, 10,  5, 2, 10, 20, 4]\n",
    "print(list(set(duplicate)))"
   ]
  },
  {
   "cell_type": "code",
   "execution_count": 21,
   "id": "69a2f89b-b1fa-4a64-863e-3c521af461f6",
   "metadata": {},
   "outputs": [
    {
     "name": "stdout",
     "output_type": "stream",
     "text": [
      "{9, 26, 11, 28}\n"
     ]
    }
   ],
   "source": [
    "list1 = [4, 9, 1, 17, 11, 26, 28, 54, 69]\n",
    "list2 = [9, 9, 74, 21, 45, 11, 63, 28, 26]\n",
    "intersection = set(list1) & set(list2)\n",
    " \n",
    "print(intersection)"
   ]
  },
  {
   "cell_type": "code",
   "execution_count": 24,
   "id": "53b2df0c-584f-41e1-bc23-120c5542373b",
   "metadata": {},
   "outputs": [
    {
     "name": "stdout",
     "output_type": "stream",
     "text": [
      "['Python', 'bicycle', 'pineapple', 'world']\n"
     ]
    }
   ],
   "source": [
    "mylist = [\"world\", \"Python\", \"pineapple\", \"bicycle\"]\n",
    "mylist.sort()\n",
    "print(mylist)"
   ]
  },
  {
   "cell_type": "code",
   "execution_count": 27,
   "id": "6ba716f9-7e57-4095-adee-7505b266c3e8",
   "metadata": {},
   "outputs": [
    {
     "name": "stdout",
     "output_type": "stream",
     "text": [
      "Reversed string: arorA kalaP\n"
     ]
    }
   ],
   "source": [
    "mystring=(\"Palak Arora\")\n",
    "str=\"\"\n",
    "for i in mystring:\n",
    "    str=i+str\n",
    "print(\"Reversed string:\",str)"
   ]
  },
  {
   "cell_type": "code",
   "execution_count": 29,
   "id": "b88d4683-583b-44c6-a116-d985f22a8242",
   "metadata": {},
   "outputs": [
    {
     "name": "stdout",
     "output_type": "stream",
     "text": [
      "listen and silent are anagrams.\n"
     ]
    }
   ],
   "source": [
    "string1 = \"listen\"\n",
    "string2 = \"silent\"\n",
    "if (string1, string2):\n",
    "    print(f\"{string1} and {string2} are anagrams.\")\n",
    "else:\n",
    "    print(f\"{string1} and {string2} are not anagrams.\")"
   ]
  },
  {
   "cell_type": "code",
   "execution_count": 31,
   "id": "d7e249ab-d4e9-46d2-8647-d516dd0cfa30",
   "metadata": {},
   "outputs": [
    {
     "name": "stdout",
     "output_type": "stream",
     "text": [
      "15\n"
     ]
    }
   ],
   "source": [
    "a=[15,58,30,97]\n",
    "x=min(a)\n",
    "print(x)"
   ]
  },
  {
   "cell_type": "code",
   "execution_count": 71,
   "id": "54b3169b-4b2f-4dc3-b5ac-fdf6d061fa76",
   "metadata": {},
   "outputs": [
    {
     "name": "stdin",
     "output_type": "stream",
     "text": [
      "Enter string :  madam\n"
     ]
    },
    {
     "name": "stdout",
     "output_type": "stream",
     "text": [
      "Reverse of giving string madam is madam\n",
      "madam is a palindrome\n"
     ]
    }
   ],
   "source": [
    "str=input(\"Enter string : \")\n",
    "rev_str=\"\"\n",
    "for char in str: \n",
    "    rev_str+=char\n",
    "print(\"Reverse of giving string\",str,\"is\",rev_str)\n",
    "if str==rev_str:\n",
    "   print(str,\"is a palindrome\") \n",
    "else: \n",
    "   print(str,\"is not a palindrome\")\n"
   ]
  },
  {
   "cell_type": "code",
   "execution_count": null,
   "id": "27d97d93-dba8-4394-bc69-54f379ac193f",
   "metadata": {},
   "outputs": [],
   "source": [
    "str=input(\"Enter String\")\n",
    "vowel_string=\"aeiouAEIOU\"\n",
    "str2=\"\"\n",
    "print(\"Input String\",str)\n",
    "for char in str:\n",
    "    if char not in vowel_string:\n",
    "        str2+=char\n",
    "print(\"Output String without vowel\",str2)\n"
   ]
  },
  {
   "cell_type": "code",
   "execution_count": null,
   "id": "32e0511b-2363-4079-8f9a-8a181eea9fc7",
   "metadata": {},
   "outputs": [],
   "source": []
  }
 ],
 "metadata": {
  "kernelspec": {
   "display_name": "Python 3 (ipykernel)",
   "language": "python",
   "name": "python3"
  },
  "language_info": {
   "codemirror_mode": {
    "name": "ipython",
    "version": 3
   },
   "file_extension": ".py",
   "mimetype": "text/x-python",
   "name": "python",
   "nbconvert_exporter": "python",
   "pygments_lexer": "ipython3",
   "version": "3.12.2"
  }
 },
 "nbformat": 4,
 "nbformat_minor": 5
}
