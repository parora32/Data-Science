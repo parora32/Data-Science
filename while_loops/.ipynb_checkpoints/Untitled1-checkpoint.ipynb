{
 "cells": [
  {
   "cell_type": "code",
   "execution_count": 20,
   "id": "7464b884-7ab8-48a6-8323-5cf117a35d86",
   "metadata": {},
   "outputs": [
    {
     "name": "stdin",
     "output_type": "stream",
     "text": [
      "Enter First Number : 3\n",
      "Enter Second Number : 4\n",
      "Enter Third Number : 5\n"
     ]
    },
    {
     "name": "stdout",
     "output_type": "stream",
     "text": [
      "Max of Three Numbers is : 5.0\n"
     ]
    }
   ],
   "source": [
    "def find_max(a, b, c):\n",
    " if a >= b and a >= c:\n",
    "    return a\n",
    " elif b >= a and b >= c:\n",
    "    return b\n",
    " else:\n",
    "    return c\n",
    "x=float(input(\"Enter First Number :\"))\n",
    "y=float(input(\"Enter Second Number :\"))\n",
    "z=float(input(\"Enter Third Number :\"))\n",
    "print(\"Max of Three Numbers is :\", find_max(x, y, z))"
   ]
  },
  {
   "cell_type": "markdown",
   "id": "2e4f0f63-b59f-429b-b1f6-9ee41e2c3f78",
   "metadata": {},
   "source": [
    " def sum_list(my_list):\n",
    "    temp=0\n",
    "    for item in my_list:\n",
    "        temp+=item\n",
    "    return temp\n",
    "length=int(input (\"Enter List length:\"))\n",
    "number_list=[]\n",
    "for list in range(length):\n",
    "   temp=int(input (\"Enter List Item:\"))\n",
    "   number_list.append(temp)\n",
    "\n",
    "total=sum_list(number_list)\n",
    "print(\"Sum of All the Number in List is:\",total)\n",
    "    "
   ]
  },
  {
   "cell_type": "code",
   "execution_count": null,
   "id": "67611b37-063e-4f41-be23-ce5bbfe0cdf6",
   "metadata": {},
   "outputs": [],
   "source": [
    "def multiply_list(numbers):\n",
    "    result = 1\n",
    "    for num in numbers:\n",
    "        result *= num\n",
    "    return result\n",
    "my_list = [1, 2, 3, 4, 5]\n",
    "print(multiply_list(my_list))"
   ]
  },
  {
   "cell_type": "code",
   "execution_count": null,
   "id": "ed622913-84a3-47d9-b838-574b018a69ab",
   "metadata": {},
   "outputs": [],
   "source": []
  },
  {
   "cell_type": "code",
   "execution_count": null,
   "id": "24ea0ac6-bfa6-40c3-9d4e-03d77b8dfd7a",
   "metadata": {},
   "outputs": [],
   "source": []
  }
 ],
 "metadata": {
  "kernelspec": {
   "display_name": "Python 3 (ipykernel)",
   "language": "python",
   "name": "python3"
  },
  "language_info": {
   "codemirror_mode": {
    "name": "ipython",
    "version": 3
   },
   "file_extension": ".py",
   "mimetype": "text/x-python",
   "name": "python",
   "nbconvert_exporter": "python",
   "pygments_lexer": "ipython3",
   "version": "3.12.2"
  }
 },
 "nbformat": 4,
 "nbformat_minor": 5
}
