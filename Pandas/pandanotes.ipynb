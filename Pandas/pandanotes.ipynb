{
 "cells": [
  {
   "cell_type": "code",
   "execution_count": null,
   "id": "d99fa08c-9312-48d0-9837-d9be8a48f3f9",
   "metadata": {},
   "outputs": [],
   "source": [
    "pandas:- Pandas is an open-source data manipulation and analysis library for Python.\n",
    "1. DataFrame: A DataFrame is a two-dimensional, size-mutable, and potentially heterogeneous tabular data structure\n",
    "with labeled axes.\n",
    "2. Series: A Series is a one-dimensional labeled array, essentially a single column of data. \n",
    "It can be thought of as a building block of a DataFrame.\n",
    "    \n",
    "                                                                     "
   ]
  },
  {
   "cell_type": "code",
   "execution_count": 7,
   "id": "b4311512-aef1-4eb0-abbd-f6b690b91af0",
   "metadata": {},
   "outputs": [
    {
     "name": "stdout",
     "output_type": "stream",
     "text": [
      "      Name  Age           City\n",
      "0    Alice   25       New York\n",
      "1      Bob   30  San Francisco\n",
      "2  Charlie   35    Los Angeles\n"
     ]
    }
   ],
   "source": [
    "#eg:Pandas to create a DataFrame:\n",
    "import pandas as pd\n",
    "\n",
    "data = {'Name': ['Alice', 'Bob', 'Charlie'],\n",
    "        'Age': [25, 30, 35],\n",
    "        'City': ['New York', 'San Francisco', 'Los Angeles']}\n",
    "\n",
    "df= pd.DataFrame(data)\n",
    "print(df)"
   ]
  },
  {
   "cell_type": "code",
   "execution_count": 8,
   "id": "55416ca8-7817-4a1b-ac30-0091ed191181",
   "metadata": {},
   "outputs": [
    {
     "data": {
      "text/plain": [
       "0      India\n",
       "1      Kenya\n",
       "2        USA\n",
       "3     canada\n",
       "4    banglor\n",
       "dtype: object"
      ]
     },
     "execution_count": 8,
     "metadata": {},
     "output_type": "execute_result"
    }
   ],
   "source": [
    "#series\n",
    "import pandas as pd\n",
    "countries = ['India','Kenya','USA','canada','banglor']\n",
    "\n",
    "pd.Series(countries)\n",
    "\n",
    "# Series: is a one-dimensional labeled array, essentially a single column of data. "
   ]
  },
  {
   "cell_type": "code",
   "execution_count": null,
   "id": "eec00ae3-a588-4805-8b06-941097168b8f",
   "metadata": {},
   "outputs": [],
   "source": [
    "## Pandas Built on top of Numpy\n",
    "Yes, Pandas is built on top of NumPy (Numerical Python). \n",
    "NumPy is a fundamental library for numerical and mathematical operations int Pyhon\n",
    "Pandas uses NumPy arrays as the underlying data structure for its DataFrame and Series objects. \n",
    "This integration with NumPy allows Pandas to take advantage of NumPy's fast and efficient array operations."
   ]
  }
 ],
 "metadata": {
  "kernelspec": {
   "display_name": "Python 3 (ipykernel)",
   "language": "python",
   "name": "python3"
  },
  "language_info": {
   "codemirror_mode": {
    "name": "ipython",
    "version": 3
   },
   "file_extension": ".py",
   "mimetype": "text/x-python",
   "name": "python",
   "nbconvert_exporter": "python",
   "pygments_lexer": "ipython3",
   "version": "3.12.2"
  }
 },
 "nbformat": 4,
 "nbformat_minor": 5
}
